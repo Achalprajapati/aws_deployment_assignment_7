{
 "cells": [
  {
   "cell_type": "code",
   "execution_count": 7,
   "id": "ca47eddf",
   "metadata": {},
   "outputs": [],
   "source": [
    "#importing required library\n",
    "import pandas as pd \n",
    "import datetime as dt\n",
    "\n",
    "import numpy as np \n",
    "import matplotlib.pyplot as plt\n",
    "\n",
    "import seaborn as sns \n",
    "\n",
    "\n",
    "from sklearn.experimental import enable_iterative_imputer\n",
    "from sklearn.impute import KNNImputer, IterativeImputer\n",
    "\n",
    "from sklearn.preprocessing import LabelEncoder, OneHotEncoder, MinMaxScaler, StandardScaler\n",
    "from sklearn.model_selection import train_test_split"
   ]
  },
  {
   "cell_type": "code",
   "execution_count": 8,
   "id": "ec39d0ec",
   "metadata": {},
   "outputs": [],
   "source": [
    "#importing data \n",
    "data= pd.read_csv(r\"C:\\Users\\91800\\Desktop\\Ass_7\\data_house.csv\")"
   ]
  },
  {
   "cell_type": "code",
   "execution_count": 9,
   "id": "2bb9bb42",
   "metadata": {},
   "outputs": [
    {
     "data": {
      "text/plain": [
       "Index(['date', 'price', 'bedrooms', 'bathrooms', 'sqft_living', 'sqft_lot',\n",
       "       'floors', 'waterfront', 'view', 'condition', 'sqft_above',\n",
       "       'sqft_basement', 'yr_built', 'yr_renovated', 'street', 'city',\n",
       "       'statezip', 'country'],\n",
       "      dtype='object')"
      ]
     },
     "execution_count": 9,
     "metadata": {},
     "output_type": "execute_result"
    }
   ],
   "source": [
    "#checking column\n",
    "data.columns"
   ]
  },
  {
   "cell_type": "code",
   "execution_count": 10,
   "id": "6f1882ff",
   "metadata": {},
   "outputs": [
    {
     "name": "stdout",
     "output_type": "stream",
     "text": [
      "<class 'pandas.core.frame.DataFrame'>\n",
      "RangeIndex: 4600 entries, 0 to 4599\n",
      "Data columns (total 18 columns):\n",
      " #   Column         Non-Null Count  Dtype  \n",
      "---  ------         --------------  -----  \n",
      " 0   date           4600 non-null   object \n",
      " 1   price          4600 non-null   float64\n",
      " 2   bedrooms       4600 non-null   float64\n",
      " 3   bathrooms      4600 non-null   float64\n",
      " 4   sqft_living    4600 non-null   int64  \n",
      " 5   sqft_lot       4600 non-null   int64  \n",
      " 6   floors         4600 non-null   float64\n",
      " 7   waterfront     4600 non-null   int64  \n",
      " 8   view           4600 non-null   int64  \n",
      " 9   condition      4600 non-null   int64  \n",
      " 10  sqft_above     4600 non-null   int64  \n",
      " 11  sqft_basement  4600 non-null   int64  \n",
      " 12  yr_built       4600 non-null   int64  \n",
      " 13  yr_renovated   4600 non-null   int64  \n",
      " 14  street         4600 non-null   object \n",
      " 15  city           4600 non-null   object \n",
      " 16  statezip       4600 non-null   object \n",
      " 17  country        4600 non-null   object \n",
      "dtypes: float64(4), int64(9), object(5)\n",
      "memory usage: 647.0+ KB\n"
     ]
    }
   ],
   "source": [
    "#checking data info \n",
    "data.info()"
   ]
  },
  {
   "cell_type": "code",
   "execution_count": 11,
   "id": "ffb03eea",
   "metadata": {},
   "outputs": [
    {
     "data": {
      "text/plain": [
       "date             0\n",
       "price            0\n",
       "bedrooms         0\n",
       "bathrooms        0\n",
       "sqft_living      0\n",
       "sqft_lot         0\n",
       "floors           0\n",
       "waterfront       0\n",
       "view             0\n",
       "condition        0\n",
       "sqft_above       0\n",
       "sqft_basement    0\n",
       "yr_built         0\n",
       "yr_renovated     0\n",
       "street           0\n",
       "city             0\n",
       "statezip         0\n",
       "country          0\n",
       "dtype: int64"
      ]
     },
     "execution_count": 11,
     "metadata": {},
     "output_type": "execute_result"
    }
   ],
   "source": [
    "#checking null values \n",
    "data.isnull().sum()"
   ]
  },
  {
   "cell_type": "code",
   "execution_count": 12,
   "id": "2bd1ac30",
   "metadata": {},
   "outputs": [],
   "source": [
    "#changing data types \n",
    "#data['date'] = pd.to_datetime(data['date'])\n",
    "#data['yr_built']=pd.to_datetime(data['yr_built'])\n",
    "#data['yr_renovated']=pd.to_datetime(data['yr_renovated'])"
   ]
  },
  {
   "cell_type": "code",
   "execution_count": 13,
   "id": "0aab6443",
   "metadata": {},
   "outputs": [],
   "source": [
    "#data['yr_built']=data['yr_built'].appy(int)\n",
    "#data['yr_built']=data['yr_built'].appy(int)"
   ]
  },
  {
   "cell_type": "code",
   "execution_count": 14,
   "id": "13512389",
   "metadata": {},
   "outputs": [
    {
     "data": {
      "text/plain": [
       "Index(['date', 'price', 'bedrooms', 'bathrooms', 'sqft_living', 'sqft_lot',\n",
       "       'floors', 'waterfront', 'view', 'condition', 'sqft_above',\n",
       "       'sqft_basement', 'yr_built', 'yr_renovated', 'street', 'city',\n",
       "       'statezip', 'country'],\n",
       "      dtype='object')"
      ]
     },
     "execution_count": 14,
     "metadata": {},
     "output_type": "execute_result"
    }
   ],
   "source": [
    "#Exploring data \n",
    "data.columns"
   ]
  },
  {
   "cell_type": "code",
   "execution_count": 15,
   "id": "8cc485ec",
   "metadata": {},
   "outputs": [
    {
     "data": {
      "text/plain": [
       "26590000.0"
      ]
     },
     "execution_count": 15,
     "metadata": {},
     "output_type": "execute_result"
    }
   ],
   "source": [
    "data['price'].max()"
   ]
  },
  {
   "cell_type": "code",
   "execution_count": 16,
   "id": "c77c3c2e",
   "metadata": {},
   "outputs": [
    {
     "data": {
      "text/plain": [
       "0.0"
      ]
     },
     "execution_count": 16,
     "metadata": {},
     "output_type": "execute_result"
    }
   ],
   "source": [
    "data['price'].min()"
   ]
  },
  {
   "cell_type": "code",
   "execution_count": 17,
   "id": "d91de053",
   "metadata": {},
   "outputs": [
    {
     "data": {
      "text/plain": [
       "3.0    2032\n",
       "4.0    1531\n",
       "2.0     566\n",
       "5.0     353\n",
       "6.0      61\n",
       "1.0      38\n",
       "7.0      14\n",
       "8.0       2\n",
       "0.0       2\n",
       "9.0       1\n",
       "Name: bedrooms, dtype: int64"
      ]
     },
     "execution_count": 17,
     "metadata": {},
     "output_type": "execute_result"
    }
   ],
   "source": [
    "data['bedrooms'].value_counts()"
   ]
  },
  {
   "cell_type": "code",
   "execution_count": 18,
   "id": "33421f3f",
   "metadata": {},
   "outputs": [],
   "source": [
    "data['bedrooms']=data['bedrooms'].round(decimals = 0)"
   ]
  },
  {
   "cell_type": "code",
   "execution_count": 19,
   "id": "3dcbf1c6",
   "metadata": {},
   "outputs": [
    {
     "data": {
      "text/plain": [
       "3.0    2032\n",
       "4.0    1531\n",
       "2.0     566\n",
       "5.0     353\n",
       "6.0      61\n",
       "1.0      38\n",
       "7.0      14\n",
       "8.0       2\n",
       "0.0       2\n",
       "9.0       1\n",
       "Name: bedrooms, dtype: int64"
      ]
     },
     "execution_count": 19,
     "metadata": {},
     "output_type": "execute_result"
    }
   ],
   "source": [
    "data['bedrooms'].value_counts()"
   ]
  },
  {
   "cell_type": "code",
   "execution_count": 20,
   "id": "034f85e5",
   "metadata": {},
   "outputs": [
    {
     "data": {
      "text/plain": [
       "dtype('float64')"
      ]
     },
     "execution_count": 20,
     "metadata": {},
     "output_type": "execute_result"
    }
   ],
   "source": [
    "data['bedrooms'].dtypes"
   ]
  },
  {
   "cell_type": "code",
   "execution_count": 21,
   "id": "3e5bd732",
   "metadata": {},
   "outputs": [],
   "source": [
    "data['bedrooms'] = data['bedrooms'].apply(int)"
   ]
  },
  {
   "cell_type": "code",
   "execution_count": 22,
   "id": "51ee1115",
   "metadata": {},
   "outputs": [
    {
     "data": {
      "text/plain": [
       "3    2032\n",
       "4    1531\n",
       "2     566\n",
       "5     353\n",
       "6      61\n",
       "1      38\n",
       "7      14\n",
       "8       2\n",
       "0       2\n",
       "9       1\n",
       "Name: bedrooms, dtype: int64"
      ]
     },
     "execution_count": 22,
     "metadata": {},
     "output_type": "execute_result"
    }
   ],
   "source": [
    "data['bedrooms'].value_counts()"
   ]
  },
  {
   "cell_type": "code",
   "execution_count": 23,
   "id": "3dde72f6",
   "metadata": {},
   "outputs": [
    {
     "data": {
      "text/plain": [
       "2.50    1189\n",
       "1.00     743\n",
       "1.75     629\n",
       "2.00     427\n",
       "2.25     419\n",
       "1.50     291\n",
       "2.75     276\n",
       "3.00     167\n",
       "3.50     162\n",
       "3.25     136\n",
       "3.75      37\n",
       "4.50      29\n",
       "4.25      23\n",
       "4.00      23\n",
       "0.75      17\n",
       "4.75       7\n",
       "5.00       6\n",
       "5.25       4\n",
       "5.50       4\n",
       "1.25       3\n",
       "6.25       2\n",
       "0.00       2\n",
       "8.00       1\n",
       "5.75       1\n",
       "6.50       1\n",
       "6.75       1\n",
       "Name: bathrooms, dtype: int64"
      ]
     },
     "execution_count": 23,
     "metadata": {},
     "output_type": "execute_result"
    }
   ],
   "source": [
    "data['bathrooms'].value_counts()"
   ]
  },
  {
   "cell_type": "code",
   "execution_count": 24,
   "id": "9b07e75d",
   "metadata": {},
   "outputs": [],
   "source": [
    "data['bathrooms']=data['bathrooms'].round(decimals = 0)"
   ]
  },
  {
   "cell_type": "code",
   "execution_count": 25,
   "id": "ad73a7ae",
   "metadata": {},
   "outputs": [
    {
     "data": {
      "text/plain": [
       "2.0    2955\n",
       "1.0     763\n",
       "3.0     579\n",
       "4.0     274\n",
       "5.0      17\n",
       "6.0       8\n",
       "0.0       2\n",
       "8.0       1\n",
       "7.0       1\n",
       "Name: bathrooms, dtype: int64"
      ]
     },
     "execution_count": 25,
     "metadata": {},
     "output_type": "execute_result"
    }
   ],
   "source": [
    "data['bathrooms'].value_counts()"
   ]
  },
  {
   "cell_type": "code",
   "execution_count": 26,
   "id": "99aaf064",
   "metadata": {},
   "outputs": [],
   "source": [
    "data['bathrooms'] = data['bathrooms'].apply(int)"
   ]
  },
  {
   "cell_type": "code",
   "execution_count": 27,
   "id": "a8ae6bc4",
   "metadata": {},
   "outputs": [
    {
     "data": {
      "text/plain": [
       "2    2955\n",
       "1     763\n",
       "3     579\n",
       "4     274\n",
       "5      17\n",
       "6       8\n",
       "0       2\n",
       "8       1\n",
       "7       1\n",
       "Name: bathrooms, dtype: int64"
      ]
     },
     "execution_count": 27,
     "metadata": {},
     "output_type": "execute_result"
    }
   ],
   "source": [
    "data['bathrooms'].value_counts()"
   ]
  },
  {
   "cell_type": "code",
   "execution_count": 28,
   "id": "b25084ec",
   "metadata": {},
   "outputs": [
    {
     "data": {
      "text/plain": [
       "1940     32\n",
       "1720     32\n",
       "1660     31\n",
       "1840     31\n",
       "2000     30\n",
       "         ..\n",
       "2732      1\n",
       "2009      1\n",
       "1295      1\n",
       "10040     1\n",
       "2538      1\n",
       "Name: sqft_living, Length: 566, dtype: int64"
      ]
     },
     "execution_count": 28,
     "metadata": {},
     "output_type": "execute_result"
    }
   ],
   "source": [
    "data['sqft_living'].value_counts()"
   ]
  },
  {
   "cell_type": "code",
   "execution_count": 29,
   "id": "f63f6419",
   "metadata": {},
   "outputs": [
    {
     "data": {
      "text/plain": [
       "5000     80\n",
       "6000     65\n",
       "4000     54\n",
       "7200     50\n",
       "4800     29\n",
       "         ..\n",
       "3568      1\n",
       "17935     1\n",
       "18897     1\n",
       "4674      1\n",
       "8102      1\n",
       "Name: sqft_lot, Length: 3113, dtype: int64"
      ]
     },
     "execution_count": 29,
     "metadata": {},
     "output_type": "execute_result"
    }
   ],
   "source": [
    "data['sqft_lot'].value_counts()"
   ]
  },
  {
   "cell_type": "code",
   "execution_count": 30,
   "id": "177bc5f2",
   "metadata": {},
   "outputs": [
    {
     "data": {
      "text/plain": [
       "1.0    2174\n",
       "2.0    1811\n",
       "1.5     444\n",
       "3.0     128\n",
       "2.5      41\n",
       "3.5       2\n",
       "Name: floors, dtype: int64"
      ]
     },
     "execution_count": 30,
     "metadata": {},
     "output_type": "execute_result"
    }
   ],
   "source": [
    "data['floors'].value_counts()"
   ]
  },
  {
   "cell_type": "code",
   "execution_count": 31,
   "id": "aa21dc38",
   "metadata": {},
   "outputs": [],
   "source": [
    "data['floors']=data['floors'].round(decimals=0)"
   ]
  },
  {
   "cell_type": "code",
   "execution_count": 32,
   "id": "42e7c7f4",
   "metadata": {},
   "outputs": [],
   "source": [
    "data['floors']=data['floors'].apply(int)"
   ]
  },
  {
   "cell_type": "code",
   "execution_count": 33,
   "id": "b6a45dee",
   "metadata": {},
   "outputs": [
    {
     "data": {
      "text/plain": [
       "2    2296\n",
       "1    2174\n",
       "3     128\n",
       "4       2\n",
       "Name: floors, dtype: int64"
      ]
     },
     "execution_count": 33,
     "metadata": {},
     "output_type": "execute_result"
    }
   ],
   "source": [
    "data['floors'].value_counts()"
   ]
  },
  {
   "cell_type": "code",
   "execution_count": 34,
   "id": "1e7873c2",
   "metadata": {},
   "outputs": [
    {
     "data": {
      "text/plain": [
       "0    4567\n",
       "1      33\n",
       "Name: waterfront, dtype: int64"
      ]
     },
     "execution_count": 34,
     "metadata": {},
     "output_type": "execute_result"
    }
   ],
   "source": [
    "data['waterfront'].value_counts()"
   ]
  },
  {
   "cell_type": "code",
   "execution_count": 35,
   "id": "675e7da5",
   "metadata": {},
   "outputs": [
    {
     "data": {
      "text/plain": [
       "0    4140\n",
       "2     205\n",
       "3     116\n",
       "4      70\n",
       "1      69\n",
       "Name: view, dtype: int64"
      ]
     },
     "execution_count": 35,
     "metadata": {},
     "output_type": "execute_result"
    }
   ],
   "source": [
    "data['view'].value_counts()"
   ]
  },
  {
   "cell_type": "code",
   "execution_count": 36,
   "id": "3cb8d888",
   "metadata": {},
   "outputs": [
    {
     "data": {
      "text/plain": [
       "3    2875\n",
       "4    1252\n",
       "5     435\n",
       "2      32\n",
       "1       6\n",
       "Name: condition, dtype: int64"
      ]
     },
     "execution_count": 36,
     "metadata": {},
     "output_type": "execute_result"
    }
   ],
   "source": [
    "data['condition'].value_counts()"
   ]
  },
  {
   "cell_type": "code",
   "execution_count": 37,
   "id": "acd964b1",
   "metadata": {},
   "outputs": [
    {
     "data": {
      "text/plain": [
       "1200    47\n",
       "1010    47\n",
       "1300    45\n",
       "1140    44\n",
       "1320    43\n",
       "        ..\n",
       "2481     1\n",
       "560      1\n",
       "2437     1\n",
       "3590     1\n",
       "2538     1\n",
       "Name: sqft_above, Length: 511, dtype: int64"
      ]
     },
     "execution_count": 37,
     "metadata": {},
     "output_type": "execute_result"
    }
   ],
   "source": [
    "data['sqft_above'].value_counts()"
   ]
  },
  {
   "cell_type": "code",
   "execution_count": 38,
   "id": "d04e618a",
   "metadata": {},
   "outputs": [
    {
     "data": {
      "text/plain": [
       "dtype('int64')"
      ]
     },
     "execution_count": 38,
     "metadata": {},
     "output_type": "execute_result"
    }
   ],
   "source": [
    "data['sqft_above'].dtypes"
   ]
  },
  {
   "cell_type": "code",
   "execution_count": 39,
   "id": "35874407",
   "metadata": {},
   "outputs": [
    {
     "data": {
      "text/plain": [
       "0       2745\n",
       "500       53\n",
       "600       45\n",
       "800       43\n",
       "900       41\n",
       "        ... \n",
       "2300       1\n",
       "265        1\n",
       "1610       1\n",
       "862        1\n",
       "1640       1\n",
       "Name: sqft_basement, Length: 207, dtype: int64"
      ]
     },
     "execution_count": 39,
     "metadata": {},
     "output_type": "execute_result"
    }
   ],
   "source": [
    "data['sqft_basement'].value_counts()"
   ]
  },
  {
   "cell_type": "code",
   "execution_count": 40,
   "id": "dd970237",
   "metadata": {},
   "outputs": [
    {
     "data": {
      "text/plain": [
       "2006    111\n",
       "2005    104\n",
       "2007     93\n",
       "2004     92\n",
       "1978     90\n",
       "       ... \n",
       "1915      6\n",
       "1935      6\n",
       "1933      5\n",
       "1934      4\n",
       "1936      3\n",
       "Name: yr_built, Length: 115, dtype: int64"
      ]
     },
     "execution_count": 40,
     "metadata": {},
     "output_type": "execute_result"
    }
   ],
   "source": [
    "data['yr_built'].value_counts()"
   ]
  },
  {
   "cell_type": "code",
   "execution_count": 41,
   "id": "5e41a854",
   "metadata": {},
   "outputs": [],
   "source": [
    "#data['yr_renovated'].value_counts()"
   ]
  },
  {
   "cell_type": "code",
   "execution_count": 42,
   "id": "0c0280b0",
   "metadata": {},
   "outputs": [
    {
     "data": {
      "text/plain": [
       "2520 Mulberry Walk NE     4\n",
       "2500 Mulberry Walk NE     3\n",
       "9413 34th Ave SW          2\n",
       "6008 8th Ave NE           2\n",
       "11034 NE 26th Pl          2\n",
       "                         ..\n",
       "1404 Broadmoor Dr E       1\n",
       "3249 E Ames Lake Dr NE    1\n",
       "6032 35th Ave NE          1\n",
       "1006 NE Ravenna Blvd      1\n",
       "18717 SE 258th St         1\n",
       "Name: street, Length: 4525, dtype: int64"
      ]
     },
     "execution_count": 42,
     "metadata": {},
     "output_type": "execute_result"
    }
   ],
   "source": [
    "data['street'].value_counts()"
   ]
  },
  {
   "cell_type": "code",
   "execution_count": 43,
   "id": "f70cf28d",
   "metadata": {},
   "outputs": [],
   "source": [
    "#data['city'].value_counts()"
   ]
  },
  {
   "cell_type": "code",
   "execution_count": 44,
   "id": "03e39747",
   "metadata": {},
   "outputs": [
    {
     "data": {
      "text/plain": [
       "USA    4600\n",
       "Name: country, dtype: int64"
      ]
     },
     "execution_count": 44,
     "metadata": {},
     "output_type": "execute_result"
    }
   ],
   "source": [
    "data['country'].value_counts()"
   ]
  },
  {
   "cell_type": "code",
   "execution_count": 45,
   "id": "fd83b7d3",
   "metadata": {},
   "outputs": [],
   "source": [
    "#exploring variable using charts and graphs"
   ]
  },
  {
   "cell_type": "code",
   "execution_count": 46,
   "id": "c8726ee5",
   "metadata": {},
   "outputs": [
    {
     "data": {
      "text/plain": [
       "<AxesSubplot:xlabel='bedrooms', ylabel='count'>"
      ]
     },
     "execution_count": 46,
     "metadata": {},
     "output_type": "execute_result"
    },
    {
     "data": {
      "image/png": "[encoded data removed]",
      "text/plain": [
       "<Figure size 432x288 with 1 Axes>"
      ]
     },
     "metadata": {
      "needs_background": "light"
     },
     "output_type": "display_data"
    }
   ],
   "source": [
    "sns.countplot(data = data,x = \"bedrooms\")"
   ]
  },
  {
   "cell_type": "code",
   "execution_count": 47,
   "id": "47451aef",
   "metadata": {},
   "outputs": [],
   "source": [
    "#plt.figure(figsize=(20,25))\n",
    "#for i, col in enumerate(data) :\n",
    " #   plt.subplot(6,3,i+1)\n",
    "  #  sns.countplot(data = data,x = col)"
   ]
  },
  {
   "cell_type": "code",
   "execution_count": 48,
   "id": "f7530023",
   "metadata": {},
   "outputs": [
    {
     "data": {
      "text/plain": [
       "<BarContainer object of 4600 artists>"
      ]
     },
     "execution_count": 48,
     "metadata": {},
     "output_type": "execute_result"
    },
    {
     "data": {
      "image/png": "[encoded data removed]",
      "text/plain": [
       "<Figure size 432x288 with 1 Axes>"
      ]
     },
     "metadata": {
      "needs_background": "light"
     },
     "output_type": "display_data"
    }
   ],
   "source": [
    "plt.bar(data['bedrooms'], data['price'],width = 0.4,color='maroon')"
   ]
  },
  {
   "cell_type": "code",
   "execution_count": 49,
   "id": "0b0ae319",
   "metadata": {},
   "outputs": [
    {
     "data": {
      "text/plain": [
       "<BarContainer object of 4600 artists>"
      ]
     },
     "execution_count": 49,
     "metadata": {},
     "output_type": "execute_result"
    },
    {
     "data": {
      "image/png": "[encoded data removed]",
      "text/plain": [
       "<Figure size 432x288 with 1 Axes>"
      ]
     },
     "metadata": {
      "needs_background": "light"
     },
     "output_type": "display_data"
    }
   ],
   "source": [
    "plt.bar(data['bathrooms'], data['price'],width = 0.4,color='maroon')"
   ]
  },
  {
   "cell_type": "code",
   "execution_count": 50,
   "id": "fa247726",
   "metadata": {},
   "outputs": [
    {
     "data": {
      "text/plain": [
       "<AxesSubplot:xlabel='bedrooms', ylabel='price'>"
      ]
     },
     "execution_count": 50,
     "metadata": {},
     "output_type": "execute_result"
    },
    {
     "data": {
      "image/png": "[encoded data removed]",
      "text/plain": [
       "<Figure size 432x288 with 1 Axes>"
      ]
     },
     "metadata": {
      "needs_background": "light"
     },
     "output_type": "display_data"
    }
   ],
   "source": [
    "sns.scatterplot(data=data,x='bedrooms',y=\"price\")"
   ]
  },
  {
   "cell_type": "code",
   "execution_count": 51,
   "id": "d08015e6",
   "metadata": {},
   "outputs": [
    {
     "data": {
      "text/plain": [
       "<AxesSubplot:xlabel='bedrooms', ylabel='price'>"
      ]
     },
     "execution_count": 51,
     "metadata": {},
     "output_type": "execute_result"
    },
    {
     "data": {
      "image/png": "[encoded data removed]",
      "text/plain": [
       "<Figure size 432x288 with 1 Axes>"
      ]
     },
     "metadata": {
      "needs_background": "light"
     },
     "output_type": "display_data"
    }
   ],
   "source": [
    "sns.boxplot(x = 'bedrooms', y = 'price', data = data)"
   ]
  },
  {
   "cell_type": "code",
   "execution_count": 52,
   "id": "d52ee7f0",
   "metadata": {},
   "outputs": [
    {
     "name": "stdout",
     "output_type": "stream",
     "text": [
      "<class 'pandas.core.frame.DataFrame'>\n",
      "RangeIndex: 4600 entries, 0 to 4599\n",
      "Data columns (total 18 columns):\n",
      " #   Column         Non-Null Count  Dtype  \n",
      "---  ------         --------------  -----  \n",
      " 0   date           4600 non-null   object \n",
      " 1   price          4600 non-null   float64\n",
      " 2   bedrooms       4600 non-null   int64  \n",
      " 3   bathrooms      4600 non-null   int64  \n",
      " 4   sqft_living    4600 non-null   int64  \n",
      " 5   sqft_lot       4600 non-null   int64  \n",
      " 6   floors         4600 non-null   int64  \n",
      " 7   waterfront     4600 non-null   int64  \n",
      " 8   view           4600 non-null   int64  \n",
      " 9   condition      4600 non-null   int64  \n",
      " 10  sqft_above     4600 non-null   int64  \n",
      " 11  sqft_basement  4600 non-null   int64  \n",
      " 12  yr_built       4600 non-null   int64  \n",
      " 13  yr_renovated   4600 non-null   int64  \n",
      " 14  street         4600 non-null   object \n",
      " 15  city           4600 non-null   object \n",
      " 16  statezip       4600 non-null   object \n",
      " 17  country        4600 non-null   object \n",
      "dtypes: float64(1), int64(12), object(5)\n",
      "memory usage: 647.0+ KB\n"
     ]
    }
   ],
   "source": [
    "data.info()"
   ]
  },
  {
   "cell_type": "code",
   "execution_count": 53,
   "id": "26a196e3",
   "metadata": {},
   "outputs": [],
   "source": [
    "NUMERICAL_COLS = ['price', 'bedrooms', 'bathrooms','sqft_living','sqft_lot','floors','waterfront','view','condition','sqft_above','sqft_basement']\n",
    "categorical_cols = ['country', 'statezip', 'city', 'yr_renovated', 'yr_built']\n"
   ]
  },
  {
   "cell_type": "code",
   "execution_count": 54,
   "id": "c3302385",
   "metadata": {},
   "outputs": [],
   "source": [
    "def ApplyLabelEncoder(data, col_name):\n",
    "    Le = LabelEncoder()\n",
    "    data[col_name] = Le.fit_transform(data[col_name])\n",
    "    return data"
   ]
  },
  {
   "cell_type": "code",
   "execution_count": 55,
   "id": "c9da8df1",
   "metadata": {},
   "outputs": [],
   "source": [
    "def HandleCategoricalData(data,le_cols):\n",
    "    for col in le_cols: \n",
    "        data = ApplyLabelEncoder(data, col)\n",
    "    return data"
   ]
  },
  {
   "cell_type": "code",
   "execution_count": 56,
   "id": "d7397c0f",
   "metadata": {},
   "outputs": [],
   "source": [
    "le_cols=['city']"
   ]
  },
  {
   "cell_type": "code",
   "execution_count": 57,
   "id": "d12450c3",
   "metadata": {},
   "outputs": [
    {
     "data": {
      "text/html": [
       "<div>\n",
       "<style scoped>\n",
       "    .dataframe tbody tr th:only-of-type {\n",
       "        vertical-align: middle;\n",
       "    }\n",
       "\n",
       "    .dataframe tbody tr th {\n",
       "        vertical-align: top;\n",
       "    }\n",
       "\n",
       "    .dataframe thead th {\n",
       "        text-align: right;\n",
       "    }\n",
       "</style>\n",
       "<table border=\"1\" class=\"dataframe\">\n",
       "  <thead>\n",
       "    <tr style=\"text-align: right;\">\n",
       "      <th></th>\n",
       "      <th>date</th>\n",
       "      <th>price</th>\n",
       "      <th>bedrooms</th>\n",
       "      <th>bathrooms</th>\n",
       "      <th>sqft_living</th>\n",
       "      <th>sqft_lot</th>\n",
       "      <th>floors</th>\n",
       "      <th>waterfront</th>\n",
       "      <th>view</th>\n",
       "      <th>condition</th>\n",
       "      <th>sqft_above</th>\n",
       "      <th>sqft_basement</th>\n",
       "      <th>yr_built</th>\n",
       "      <th>yr_renovated</th>\n",
       "      <th>street</th>\n",
       "      <th>city</th>\n",
       "      <th>statezip</th>\n",
       "      <th>country</th>\n",
       "    </tr>\n",
       "  </thead>\n",
       "  <tbody>\n",
       "    <tr>\n",
       "      <th>0</th>\n",
       "      <td>2014-05-02 00:00:00</td>\n",
       "      <td>313000.0</td>\n",
       "      <td>3</td>\n",
       "      <td>2</td>\n",
       "      <td>1340</td>\n",
       "      <td>7912</td>\n",
       "      <td>2</td>\n",
       "      <td>0</td>\n",
       "      <td>0</td>\n",
       "      <td>3</td>\n",
       "      <td>1340</td>\n",
       "      <td>0</td>\n",
       "      <td>1955</td>\n",
       "      <td>2005</td>\n",
       "      <td>18810 Densmore Ave N</td>\n",
       "      <td>36</td>\n",
       "      <td>WA 98133</td>\n",
       "      <td>USA</td>\n",
       "    </tr>\n",
       "    <tr>\n",
       "      <th>1</th>\n",
       "      <td>2014-05-02 00:00:00</td>\n",
       "      <td>2384000.0</td>\n",
       "      <td>5</td>\n",
       "      <td>2</td>\n",
       "      <td>3650</td>\n",
       "      <td>9050</td>\n",
       "      <td>2</td>\n",
       "      <td>0</td>\n",
       "      <td>4</td>\n",
       "      <td>5</td>\n",
       "      <td>3370</td>\n",
       "      <td>280</td>\n",
       "      <td>1921</td>\n",
       "      <td>0</td>\n",
       "      <td>709 W Blaine St</td>\n",
       "      <td>35</td>\n",
       "      <td>WA 98119</td>\n",
       "      <td>USA</td>\n",
       "    </tr>\n",
       "    <tr>\n",
       "      <th>2</th>\n",
       "      <td>2014-05-02 00:00:00</td>\n",
       "      <td>342000.0</td>\n",
       "      <td>3</td>\n",
       "      <td>2</td>\n",
       "      <td>1930</td>\n",
       "      <td>11947</td>\n",
       "      <td>1</td>\n",
       "      <td>0</td>\n",
       "      <td>0</td>\n",
       "      <td>4</td>\n",
       "      <td>1930</td>\n",
       "      <td>0</td>\n",
       "      <td>1966</td>\n",
       "      <td>0</td>\n",
       "      <td>26206-26214 143rd Ave SE</td>\n",
       "      <td>18</td>\n",
       "      <td>WA 98042</td>\n",
       "      <td>USA</td>\n",
       "    </tr>\n",
       "    <tr>\n",
       "      <th>3</th>\n",
       "      <td>2014-05-02 00:00:00</td>\n",
       "      <td>420000.0</td>\n",
       "      <td>3</td>\n",
       "      <td>2</td>\n",
       "      <td>2000</td>\n",
       "      <td>8030</td>\n",
       "      <td>1</td>\n",
       "      <td>0</td>\n",
       "      <td>0</td>\n",
       "      <td>4</td>\n",
       "      <td>1000</td>\n",
       "      <td>1000</td>\n",
       "      <td>1963</td>\n",
       "      <td>0</td>\n",
       "      <td>857 170th Pl NE</td>\n",
       "      <td>3</td>\n",
       "      <td>WA 98008</td>\n",
       "      <td>USA</td>\n",
       "    </tr>\n",
       "    <tr>\n",
       "      <th>4</th>\n",
       "      <td>2014-05-02 00:00:00</td>\n",
       "      <td>550000.0</td>\n",
       "      <td>4</td>\n",
       "      <td>2</td>\n",
       "      <td>1940</td>\n",
       "      <td>10500</td>\n",
       "      <td>1</td>\n",
       "      <td>0</td>\n",
       "      <td>0</td>\n",
       "      <td>4</td>\n",
       "      <td>1140</td>\n",
       "      <td>800</td>\n",
       "      <td>1976</td>\n",
       "      <td>1992</td>\n",
       "      <td>9105 170th Ave NE</td>\n",
       "      <td>31</td>\n",
       "      <td>WA 98052</td>\n",
       "      <td>USA</td>\n",
       "    </tr>\n",
       "  </tbody>\n",
       "</table>\n",
       "</div>"
      ],
      "text/plain": [
       "                  date      price  bedrooms  bathrooms  sqft_living  sqft_lot  \\\n",
       "0  2014-05-02 00:00:00   313000.0         3          2         1340      7912   \n",
       "1  2014-05-02 00:00:00  2384000.0         5          2         3650      9050   \n",
       "2  2014-05-02 00:00:00   342000.0         3          2         1930     11947   \n",
       "3  2014-05-02 00:00:00   420000.0         3          2         2000      8030   \n",
       "4  2014-05-02 00:00:00   550000.0         4          2         1940     10500   \n",
       "\n",
       "   floors  waterfront  view  condition  sqft_above  sqft_basement  yr_built  \\\n",
       "0       2           0     0          3        1340              0      1955   \n",
       "1       2           0     4          5        3370            280      1921   \n",
       "2       1           0     0          4        1930              0      1966   \n",
       "3       1           0     0          4        1000           1000      1963   \n",
       "4       1           0     0          4        1140            800      1976   \n",
       "\n",
       "   yr_renovated                    street  city  statezip country  \n",
       "0          2005      18810 Densmore Ave N    36  WA 98133     USA  \n",
       "1             0           709 W Blaine St    35  WA 98119     USA  \n",
       "2             0  26206-26214 143rd Ave SE    18  WA 98042     USA  \n",
       "3             0           857 170th Pl NE     3  WA 98008     USA  \n",
       "4          1992         9105 170th Ave NE    31  WA 98052     USA  "
      ]
     },
     "execution_count": 57,
     "metadata": {},
     "output_type": "execute_result"
    }
   ],
   "source": [
    "data = HandleCategoricalData(data,le_cols)\n",
    "data.head()"
   ]
  },
  {
   "cell_type": "code",
   "execution_count": 58,
   "id": "209e2ee2",
   "metadata": {},
   "outputs": [],
   "source": [
    "def FixOutliers(data , col, threshold = {}, method = 'imputer', NUMERICAL_COLS = []):\n",
    "    if NUMERICAL_COLS == []:\n",
    "        NUMERICAL_COLS = data.columns\n",
    "    if method == 'imputer': # you have converted outliers to nulls\n",
    "        imputer = KNNImputer()\n",
    "        data.loc[:, NUMERICAL_COLS] = imputer.fit_transform(data.loc[:, NUMERICAL_COLS])\n",
    "    else:\n",
    "        data.loc[:, col] = np.clip(data[col].values, threshold['low'], threshold['high'])\n",
    "    return data.loc[:, col]\n",
    "\n",
    "def DetectOutlier_ZScore(data, col_name, method = 'imputer'):\n",
    "    col_values = data.loc[:, col_name] # series object\n",
    "    upper_limit = col_values.mean() + 3*col_values.std()\n",
    "    lower_limit = col_values.mean() - 3*col_values.std()\n",
    "\n",
    "    outliers = np.logical_or(col_values.values > upper_limit, col_values.values < lower_limit) # vector of booleans \n",
    "    idxs = np.where(outliers)[0]\n",
    "\n",
    "    print(\" Outliers Detected : \", len(idxs))\n",
    "\n",
    "    plt.plot([upper_limit]*data.shape[0])\n",
    "    plt.plot([lower_limit]*data.shape[0])\n",
    "    plt.scatter(x = [i for i in range(data.shape[0])] , y = col_values)\n",
    "    plt.xlabel(\"Data Points \")\n",
    "    plt.ylabel(col_name)\n",
    "    plt.title(f\" Outliers in {col_name} \")\n",
    "    plt.show()\n",
    "\n",
    "    print(\" Fixing Outliers \")\n",
    "    if method == 'imputer':\n",
    "        data.loc[idxs, col_name] = np.nan # converting outliers to nulls \n",
    "        data.loc[:, col_name] = FixOutliers(data, col_name, NUMERICAL_COLS = NUMERICAL_COLS)\n",
    "    else:\n",
    "        data.loc[:, col_name] = FixOutliers(data, col_name, threshold = {'high' : upper_limit, 'low' : lower_limit}, method = 'clipping')\n",
    "\n",
    "    plt.plot([upper_limit]*data.shape[0])\n",
    "    plt.plot([lower_limit]*data.shape[0])\n",
    "    plt.scatter(x = [i for i in range(data.shape[0])] , y = data.loc[:, col_name].values)\n",
    "    plt.xlabel(\"Data Points \")\n",
    "    plt.ylabel(col_name)\n",
    "    plt.title(f\" Outliers in {col_name} \")\n",
    "    plt.show()\n",
    "\n",
    "    return data.loc[:, col_name]\n",
    "\n",
    "def DetectOutlier_IQR(data, col_name, method = 'imputer'):\n",
    "    col_values = data.loc[:, col_name]\n",
    "    q3 = col_values.quantile(0.75)\n",
    "    q1 = col_values.quantile(0.25)\n",
    "    upper_limit = q3 + 1.5*(q3 - q1)\n",
    "    lower_limit = q1 - 1.5*(q3 - q1)\n",
    "\n",
    "    # ((data[col_name] > upper_limit) | (data[col_name] < lower_limit)).sum()\n",
    "\n",
    "    outliers = np.logical_or(col_values.values > upper_limit, col_values.values < lower_limit) # vector of booleans \n",
    "    idxs = np.where(outliers)[0]\n",
    "\n",
    "    print(\" Outliers Detected : \", len(idxs))\n",
    "\n",
    "    plt.plot([upper_limit]*data.shape[0])\n",
    "    plt.plot([lower_limit]*data.shape[0])\n",
    "    plt.scatter(x = [i for i in range(data.shape[0])] , y = col_values)\n",
    "    plt.xlabel(\"Data Points \")\n",
    "    plt.ylabel(col_name)\n",
    "    plt.title(f\" Outliers in {col_name} \")\n",
    "    plt.show()\n",
    "\n",
    "    print(\" Fixing Outliers \")\n",
    "    if method == 'imputer':\n",
    "        data.loc[idxs, col_name] = np.nan # converting outliers to nulls \n",
    "        data.loc[:, col_name] = FixOutliers(data, col_name, NUMERICAL_COLS = NUMERICAL_COLS)\n",
    "    else:\n",
    "        data.loc[:, col_name] = FixOutliers(data, col_name, threshold = {'high' : upper_limit, 'low' : lower_limit}, method = 'clipping')\n",
    "\n",
    "    plt.plot([upper_limit]*data.shape[0])\n",
    "    plt.plot([lower_limit]*data.shape[0])\n",
    "    plt.scatter(x = [i for i in range(data.shape[0])] , y = data.loc[:, col_name].values)\n",
    "    plt.xlabel(\"Data Points \")\n",
    "    plt.ylabel(col_name)\n",
    "    plt.title(f\" Outliers in {col_name} \")\n",
    "    plt.show()\n",
    "\n",
    "    return data.loc[:, col_name]"
   ]
  },
  {
   "cell_type": "code",
   "execution_count": 59,
   "id": "d70bd530",
   "metadata": {},
   "outputs": [
    {
     "name": "stdout",
     "output_type": "stream",
     "text": [
      " Outliers Detected :  34\n"
     ]
    },
    {
     "data": {
      "image/png": "[encoded data removed]",
      "text/plain": [
       "<Figure size 432x288 with 1 Axes>"
      ]
     },
     "metadata": {
      "needs_background": "light"
     },
     "output_type": "display_data"
    },
    {
     "name": "stdout",
     "output_type": "stream",
     "text": [
      " Fixing Outliers \n"
     ]
    },
    {
     "data": {
      "image/png": "[encoded data removed]",
      "text/plain": [
       "<Figure size 432x288 with 1 Axes>"
      ]
     },
     "metadata": {
      "needs_background": "light"
     },
     "output_type": "display_data"
    },
    {
     "name": "stdout",
     "output_type": "stream",
     "text": [
      " Outliers Detected :  19\n"
     ]
    },
    {
     "data": {
      "image/png": "[encoded data removed]",
      "text/plain": [
       "<Figure size 432x288 with 1 Axes>"
      ]
     },
     "metadata": {
      "needs_background": "light"
     },
     "output_type": "display_data"
    },
    {
     "name": "stdout",
     "output_type": "stream",
     "text": [
      " Fixing Outliers \n"
     ]
    },
    {
     "data": {
      "image/png": "[encoded data removed]",
      "text/plain": [
       "<Figure size 432x288 with 1 Axes>"
      ]
     },
     "metadata": {
      "needs_background": "light"
     },
     "output_type": "display_data"
    },
    {
     "name": "stdout",
     "output_type": "stream",
     "text": [
      " Outliers Detected :  27\n"
     ]
    },
    {
     "data": {
      "image/png": "[encoded data removed]",
      "text/plain": [
       "<Figure size 432x288 with 1 Axes>"
      ]
     },
     "metadata": {
      "needs_background": "light"
     },
     "output_type": "display_data"
    },
    {
     "name": "stdout",
     "output_type": "stream",
     "text": [
      " Fixing Outliers \n"
     ]
    },
    {
     "data": {
      "image/png": "[encoded data removed]",
      "text/plain": [
       "<Figure size 432x288 with 1 Axes>"
      ]
     },
     "metadata": {
      "needs_background": "light"
     },
     "output_type": "display_data"
    },
    {
     "name": "stdout",
     "output_type": "stream",
     "text": [
      " Outliers Detected :  50\n"
     ]
    },
    {
     "data": {
      "image/png": "[encoded data removed]",
      "text/plain": [
       "<Figure size 432x288 with 1 Axes>"
      ]
     },
     "metadata": {
      "needs_background": "light"
     },
     "output_type": "display_data"
    },
    {
     "name": "stdout",
     "output_type": "stream",
     "text": [
      " Fixing Outliers \n"
     ]
    },
    {
     "data": {
      "image/png": "[encoded data removed]",
      "text/plain": [
       "<Figure size 432x288 with 1 Axes>"
      ]
     },
     "metadata": {
      "needs_background": "light"
     },
     "output_type": "display_data"
    },
    {
     "name": "stdout",
     "output_type": "stream",
     "text": [
      " Outliers Detected :  78\n"
     ]
    },
    {
     "data": {
      "image/png": "[encoded data removed]",
      "text/plain": [
       "<Figure size 432x288 with 1 Axes>"
      ]
     },
     "metadata": {
      "needs_background": "light"
     },
     "output_type": "display_data"
    },
    {
     "name": "stdout",
     "output_type": "stream",
     "text": [
      " Fixing Outliers \n"
     ]
    },
    {
     "data": {
      "image/png": "[encoded data removed]",
      "text/plain": [
       "<Figure size 432x288 with 1 Axes>"
      ]
     },
     "metadata": {
      "needs_background": "light"
     },
     "output_type": "display_data"
    },
    {
     "name": "stdout",
     "output_type": "stream",
     "text": [
      " Outliers Detected :  2\n"
     ]
    },
    {
     "data": {
      "image/png": "[encoded data removed]",
      "text/plain": [
       "<Figure size 432x288 with 1 Axes>"
      ]
     },
     "metadata": {
      "needs_background": "light"
     },
     "output_type": "display_data"
    },
    {
     "name": "stdout",
     "output_type": "stream",
     "text": [
      " Fixing Outliers \n"
     ]
    },
    {
     "data": {
      "image/png": "[encoded data removed]",
      "text/plain": [
       "<Figure size 432x288 with 1 Axes>"
      ]
     },
     "metadata": {
      "needs_background": "light"
     },
     "output_type": "display_data"
    },
    {
     "name": "stdout",
     "output_type": "stream",
     "text": [
      " Outliers Detected :  33\n"
     ]
    },
    {
     "data": {
      "image/png": "[encoded data removed]",
      "text/plain": [
       "<Figure size 432x288 with 1 Axes>"
      ]
     },
     "metadata": {
      "needs_background": "light"
     },
     "output_type": "display_data"
    },
    {
     "name": "stdout",
     "output_type": "stream",
     "text": [
      " Fixing Outliers \n"
     ]
    },
    {
     "data": {
      "image/png": "[encoded data removed]",
      "text/plain": [
       "<Figure size 432x288 with 1 Axes>"
      ]
     },
     "metadata": {
      "needs_background": "light"
     },
     "output_type": "display_data"
    },
    {
     "name": "stdout",
     "output_type": "stream",
     "text": [
      " Outliers Detected :  186\n"
     ]
    },
    {
     "data": {
      "image/png": "[encoded data removed]",
      "text/plain": [
       "<Figure size 432x288 with 1 Axes>"
      ]
     },
     "metadata": {
      "needs_background": "light"
     },
     "output_type": "display_data"
    },
    {
     "name": "stdout",
     "output_type": "stream",
     "text": [
      " Fixing Outliers \n"
     ]
    },
    {
     "data": {
      "image/png": "[encoded data removed]",
      "text/plain": [
       "<Figure size 432x288 with 1 Axes>"
      ]
     },
     "metadata": {
      "needs_background": "light"
     },
     "output_type": "display_data"
    },
    {
     "name": "stdout",
     "output_type": "stream",
     "text": [
      " Outliers Detected :  6\n"
     ]
    },
    {
     "data": {
      "image/png": "[encoded data removed]",
      "text/plain": [
       "<Figure size 432x288 with 1 Axes>"
      ]
     },
     "metadata": {
      "needs_background": "light"
     },
     "output_type": "display_data"
    },
    {
     "name": "stdout",
     "output_type": "stream",
     "text": [
      " Fixing Outliers \n"
     ]
    },
    {
     "data": {
      "image/png": "[encoded data removed]",
      "text/plain": [
       "<Figure size 432x288 with 1 Axes>"
      ]
     },
     "metadata": {
      "needs_background": "light"
     },
     "output_type": "display_data"
    },
    {
     "name": "stdout",
     "output_type": "stream",
     "text": [
      " Outliers Detected :  53\n"
     ]
    },
    {
     "data": {
      "image/png": "[encoded data removed]",
      "text/plain": [
       "<Figure size 432x288 with 1 Axes>"
      ]
     },
     "metadata": {
      "needs_background": "light"
     },
     "output_type": "display_data"
    },
    {
     "name": "stdout",
     "output_type": "stream",
     "text": [
      " Fixing Outliers \n"
     ]
    },
    {
     "data": {
      "image/png": "[encoded data removed]",
      "text/plain": [
       "<Figure size 432x288 with 1 Axes>"
      ]
     },
     "metadata": {
      "needs_background": "light"
     },
     "output_type": "display_data"
    },
    {
     "name": "stdout",
     "output_type": "stream",
     "text": [
      " Outliers Detected :  46\n"
     ]
    },
    {
     "data": {
      "image/png": "[encoded data removed]",
      "text/plain": [
       "<Figure size 432x288 with 1 Axes>"
      ]
     },
     "metadata": {
      "needs_background": "light"
     },
     "output_type": "display_data"
    },
    {
     "name": "stdout",
     "output_type": "stream",
     "text": [
      " Fixing Outliers \n"
     ]
    },
    {
     "data": {
      "image/png": "[encoded data removed]",
      "text/plain": [
       "<Figure size 432x288 with 1 Axes>"
      ]
     },
     "metadata": {
      "needs_background": "light"
     },
     "output_type": "display_data"
    }
   ],
   "source": [
    "HandleOutlierCols = NUMERICAL_COLS\n",
    "\n",
    "for col in HandleOutlierCols:\n",
    "    data.loc[:, col] = DetectOutlier_ZScore(data, col)"
   ]
  },
  {
   "cell_type": "code",
   "execution_count": 60,
   "id": "c44d40e9",
   "metadata": {},
   "outputs": [
    {
     "data": {
      "text/plain": [
       "Index(['date', 'price', 'bedrooms', 'bathrooms', 'sqft_living', 'sqft_lot',\n",
       "       'floors', 'waterfront', 'view', 'condition', 'sqft_above',\n",
       "       'sqft_basement', 'yr_built', 'yr_renovated', 'street', 'city',\n",
       "       'statezip', 'country'],\n",
       "      dtype='object')"
      ]
     },
     "execution_count": 60,
     "metadata": {},
     "output_type": "execute_result"
    }
   ],
   "source": [
    "data.columns"
   ]
  },
  {
   "cell_type": "code",
   "execution_count": 61,
   "id": "97f89034",
   "metadata": {},
   "outputs": [],
   "source": [
    "data.drop(columns=[\"date\",'street','statezip','country'],inplace=True,axis=1)\n",
    "features = list(data.columns)\n",
    "features.remove(\"price\")\n",
    "\n",
    "Features = data.loc[:, features]\n",
    "Target = data.loc[:, \"price\"]"
   ]
  },
  {
   "cell_type": "code",
   "execution_count": 62,
   "id": "8d02626e",
   "metadata": {},
   "outputs": [
    {
     "data": {
      "text/plain": [
       "['bedrooms',\n",
       " 'bathrooms',\n",
       " 'sqft_living',\n",
       " 'sqft_lot',\n",
       " 'floors',\n",
       " 'waterfront',\n",
       " 'view',\n",
       " 'condition',\n",
       " 'sqft_above',\n",
       " 'sqft_basement',\n",
       " 'yr_built',\n",
       " 'yr_renovated',\n",
       " 'city']"
      ]
     },
     "execution_count": 62,
     "metadata": {},
     "output_type": "execute_result"
    }
   ],
   "source": [
    "features"
   ]
  },
  {
   "cell_type": "code",
   "execution_count": 63,
   "id": "ce41b7e8",
   "metadata": {},
   "outputs": [
    {
     "data": {
      "text/plain": [
       "0       313000.000000\n",
       "1       984800.000000\n",
       "2       342000.000000\n",
       "3       420000.000000\n",
       "4       550000.000000\n",
       "            ...      \n",
       "4595    308166.666667\n",
       "4596    534333.333333\n",
       "4597    416904.166667\n",
       "4598    203400.000000\n",
       "4599    220600.000000\n",
       "Name: price, Length: 4600, dtype: float64"
      ]
     },
     "execution_count": 63,
     "metadata": {},
     "output_type": "execute_result"
    }
   ],
   "source": [
    "Target"
   ]
  },
  {
   "cell_type": "code",
   "execution_count": 64,
   "id": "a78af6ab",
   "metadata": {},
   "outputs": [],
   "source": [
    "Scaler = MinMaxScaler()\n",
    "Features.iloc[:, :] = Scaler.fit_transform(Features)"
   ]
  },
  {
   "cell_type": "code",
   "execution_count": 65,
   "id": "e75cae76",
   "metadata": {},
   "outputs": [],
   "source": [
    "TrainFeatures, TestFeatures, TrainTarget, TestTarget = train_test_split(Features, Target, test_size = 0.3, shuffle = True, random_state = 4)"
   ]
  },
  {
   "cell_type": "code",
   "execution_count": 66,
   "id": "a1f940dd",
   "metadata": {},
   "outputs": [
    {
     "data": {
      "text/plain": [
       "LinearRegression()"
      ]
     },
     "execution_count": 66,
     "metadata": {},
     "output_type": "execute_result"
    }
   ],
   "source": [
    "from sklearn.linear_model import LinearRegression \n",
    "model = LinearRegression()\n",
    "model.fit(TrainFeatures, TrainTarget)"
   ]
  },
  {
   "cell_type": "code",
   "execution_count": 67,
   "id": "287e5120",
   "metadata": {},
   "outputs": [],
   "source": [
    "model = LinearRegression()\n",
    "model.fit(TrainFeatures,TrainTarget)\n",
    "predictions = model.predict(TestFeatures)\n"
   ]
  },
  {
   "cell_type": "code",
   "execution_count": 68,
   "id": "2d97de6b",
   "metadata": {},
   "outputs": [],
   "source": [
    "traing_accuracy=model.score(TrainFeatures,TrainTarget)"
   ]
  },
  {
   "cell_type": "code",
   "execution_count": 69,
   "id": "14221ca7",
   "metadata": {},
   "outputs": [
    {
     "data": {
      "text/plain": [
       "0.49710297261816294"
      ]
     },
     "execution_count": 69,
     "metadata": {},
     "output_type": "execute_result"
    }
   ],
   "source": [
    "traing_accuracy"
   ]
  },
  {
   "cell_type": "code",
   "execution_count": 70,
   "id": "15acf782",
   "metadata": {},
   "outputs": [],
   "source": [
    "test_accuracy=model.score(TestFeatures,TestTarget)"
   ]
  },
  {
   "cell_type": "code",
   "execution_count": 71,
   "id": "9c455dfe",
   "metadata": {},
   "outputs": [
    {
     "data": {
      "text/plain": [
       "0.45903790105165565"
      ]
     },
     "execution_count": 71,
     "metadata": {},
     "output_type": "execute_result"
    }
   ],
   "source": [
    "test_accuracy"
   ]
  },
  {
   "cell_type": "code",
   "execution_count": 72,
   "id": "add03293",
   "metadata": {},
   "outputs": [
    {
     "data": {
      "text/plain": [
       "RandomForestRegressor()"
      ]
     },
     "execution_count": 72,
     "metadata": {},
     "output_type": "execute_result"
    }
   ],
   "source": [
    "from sklearn.ensemble import RandomForestRegressor\n",
    "model = RandomForestRegressor()\n",
    "model.fit(TrainFeatures, TrainTarget)"
   ]
  },
  {
   "cell_type": "code",
   "execution_count": 73,
   "id": "3022e3d2",
   "metadata": {},
   "outputs": [],
   "source": [
    "model = RandomForestRegressor()\n",
    "model.fit(TrainFeatures,TrainTarget)\n",
    "predictions = model.predict(TestFeatures)\n"
   ]
  },
  {
   "cell_type": "code",
   "execution_count": 74,
   "id": "ff6ddf91",
   "metadata": {},
   "outputs": [],
   "source": [
    "traing_accuracy=model.score(TrainFeatures,TrainTarget)\n",
    "test_accuracy=model.score(TestFeatures,TestTarget)"
   ]
  },
  {
   "cell_type": "code",
   "execution_count": 75,
   "id": "d9d1c436",
   "metadata": {},
   "outputs": [
    {
     "name": "stdout",
     "output_type": "stream",
     "text": [
      "0.9365688173789571\n",
      "0.53090628086286\n"
     ]
    }
   ],
   "source": [
    "print(traing_accuracy)\n",
    "print(test_accuracy)"
   ]
  },
  {
   "cell_type": "code",
   "execution_count": 76,
   "id": "84813e7a",
   "metadata": {},
   "outputs": [
    {
     "data": {
      "text/plain": [
       "SVR()"
      ]
     },
     "execution_count": 76,
     "metadata": {},
     "output_type": "execute_result"
    }
   ],
   "source": [
    "from sklearn.svm import SVR\n",
    "model = SVR()\n",
    "model.fit(TrainFeatures, TrainTarget)"
   ]
  },
  {
   "cell_type": "code",
   "execution_count": 77,
   "id": "0bd52647",
   "metadata": {},
   "outputs": [
    {
     "name": "stdout",
     "output_type": "stream",
     "text": [
      "-0.05128284833170693\n",
      "-0.05311632279406364\n"
     ]
    }
   ],
   "source": [
    "model = SVR()\n",
    "model.fit(TrainFeatures,TrainTarget)\n",
    "predictions = model.predict(TestFeatures)\n",
    "traing_accuracy=model.score(TrainFeatures,TrainTarget)\n",
    "test_accuracy=model.score(TestFeatures,TestTarget)\n",
    "print(traing_accuracy)\n",
    "print(test_accuracy)"
   ]
  },
  {
   "cell_type": "code",
   "execution_count": 78,
   "id": "fe9d5db1",
   "metadata": {},
   "outputs": [],
   "source": [
    "from sklearn.linear_model import Ridge"
   ]
  },
  {
   "cell_type": "code",
   "execution_count": 79,
   "id": "6128b42d",
   "metadata": {},
   "outputs": [],
   "source": [
    "model1 = Ridge()"
   ]
  },
  {
   "cell_type": "code",
   "execution_count": 80,
   "id": "e7f791d6",
   "metadata": {},
   "outputs": [
    {
     "name": "stdout",
     "output_type": "stream",
     "text": [
      "0.49691308362648134\n",
      "0.4595740479534838\n"
     ]
    }
   ],
   "source": [
    "model1.fit(TrainFeatures,TrainTarget)\n",
    "predictions = model1.predict(TestFeatures)\n",
    "traing_accuracy=model1.score(TrainFeatures,TrainTarget)\n",
    "test_accuracy=model1.score(TestFeatures,TestTarget)\n",
    "print(traing_accuracy)\n",
    "print(test_accuracy)"
   ]
  },
  {
   "cell_type": "code",
   "execution_count": 81,
   "id": "1f917686",
   "metadata": {},
   "outputs": [],
   "source": [
    "from sklearn.linear_model import Lasso"
   ]
  },
  {
   "cell_type": "code",
   "execution_count": 82,
   "id": "cf31ed60",
   "metadata": {},
   "outputs": [],
   "source": [
    "model2 = Lasso()"
   ]
  },
  {
   "cell_type": "code",
   "execution_count": 83,
   "id": "103e9dba",
   "metadata": {},
   "outputs": [],
   "source": [
    "model2.fit(TrainFeatures,TrainTarget)\n",
    "predictions = model2.predict(TestFeatures)"
   ]
  },
  {
   "cell_type": "code",
   "execution_count": 84,
   "id": "aaf5efd3",
   "metadata": {},
   "outputs": [],
   "source": [
    "traing_accuracy=model2.score(TrainFeatures,TrainTarget)\n",
    "test_accuracy=model2.score(TestFeatures,TestTarget)"
   ]
  },
  {
   "cell_type": "code",
   "execution_count": 85,
   "id": "a4739594",
   "metadata": {},
   "outputs": [
    {
     "name": "stdout",
     "output_type": "stream",
     "text": [
      "0.49710296771854035\n",
      "0.45904035721670977\n"
     ]
    }
   ],
   "source": [
    "print(traing_accuracy)\n",
    "print(test_accuracy)"
   ]
  },
  {
   "cell_type": "code",
   "execution_count": 86,
   "id": "848501b6",
   "metadata": {},
   "outputs": [],
   "source": [
    "from xgboost import XGBRegressor"
   ]
  },
  {
   "cell_type": "code",
   "execution_count": 87,
   "id": "6991d1a9",
   "metadata": {},
   "outputs": [],
   "source": [
    "model3 = XGBRegressor()"
   ]
  },
  {
   "cell_type": "code",
   "execution_count": 88,
   "id": "b40ddc7b",
   "metadata": {},
   "outputs": [],
   "source": [
    "model3.fit(TrainFeatures,TrainTarget)\n",
    "predictions = model3.predict(TestFeatures)"
   ]
  },
  {
   "cell_type": "code",
   "execution_count": 89,
   "id": "4f33071a",
   "metadata": {},
   "outputs": [],
   "source": [
    "traing_accuracy=model3.score(TrainFeatures,TrainTarget)\n",
    "test_accuracy=model3.score(TestFeatures,TestTarget)"
   ]
  },
  {
   "cell_type": "code",
   "execution_count": 90,
   "id": "81b59445",
   "metadata": {},
   "outputs": [
    {
     "name": "stdout",
     "output_type": "stream",
     "text": [
      "0.9667273348050365\n",
      "0.5083187755335592\n"
     ]
    }
   ],
   "source": [
    "print(traing_accuracy)\n",
    "print(test_accuracy)"
   ]
  },
  {
   "cell_type": "code",
   "execution_count": 91,
   "id": "2dbe9524",
   "metadata": {},
   "outputs": [],
   "source": [
    "import pickle"
   ]
  },
  {
   "cell_type": "code",
   "execution_count": 92,
   "id": "ddc80255",
   "metadata": {},
   "outputs": [],
   "source": [
    "pickle.dump(model3,open('model.pkl','wb'))"
   ]
  },
  {
   "cell_type": "code",
   "execution_count": null,
   "id": "89779452",
   "metadata": {},
   "outputs": [],
   "source": []
  }
 ],
 "metadata": {
  "kernelspec": {
   "display_name": "Python 3 (ipykernel)",
   "language": "python",
   "name": "python3"
  },
  "language_info": {
   "codemirror_mode": {
    "name": "ipython",
    "version": 3
   },
   "file_extension": ".py",
   "mimetype": "text/x-python",
   "name": "python",
   "nbconvert_exporter": "python",
   "pygments_lexer": "ipython3",
   "version": "3.10.9"
  }
 },
 "nbformat": 4,
 "nbformat_minor": 5
}
